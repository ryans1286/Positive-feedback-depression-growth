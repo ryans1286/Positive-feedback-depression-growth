{
 "cells": [
  {
   "cell_type": "code",
   "execution_count": 6,
   "id": "incorrect-footage",
   "metadata": {},
   "outputs": [],
   "source": [
    "import os, csv, subprocess\n",
    "\n",
    "import numpy as np\n",
    "import pandas as pd"
   ]
  },
  {
   "cell_type": "code",
   "execution_count": 4,
   "id": "native-editing",
   "metadata": {},
   "outputs": [],
   "source": [
    "def find_unique_areas(areas):\n",
    "    uniques, counts = np.unique(areas, return_counts = True)\n",
    "    counts = counts.astype(str)\n",
    "    area_list = []\n",
    "    count_list = []\n",
    "    area_list.append(uniques)\n",
    "    count_list.append(counts)\n",
    "    return np.vstack((area_list, count_list)).T "
   ]
  },
  {
   "cell_type": "markdown",
   "id": "understanding-arena",
   "metadata": {},
   "source": [
    "### Voitalov et al. (2019) published a python script to identify power law distributions. This notebook creates a .dat file of depression areas and counts for the Ngozumpa Glacier.  \n",
    "\n",
    "#### Please refer to Voitalov et al. (2019) for more detail on identifying power laws:\n",
    "#### Voitalov, I., Van Der Hoorn, P., Van Der Hofstad, R., & Krioukov, D. (2019). Scale-free networks well done. Physical Review Research, 1(3). https://doi.org/10.1103/PhysRevResearch.1.033034\n",
    "\n",
    "#### See https://github.com/ivanvoitalov/tail-estimation for step-by-step instructions on using their tail-estimation script. "
   ]
  },
  {
   "cell_type": "markdown",
   "id": "urban-client",
   "metadata": {},
   "source": [
    "#### The script below produces a .dat file of depression areas and counts from the Ngozumpa Glacier."
   ]
  },
  {
   "cell_type": "code",
   "execution_count": 7,
   "id": "advised-plant",
   "metadata": {},
   "outputs": [],
   "source": [
    "allData = pd.read_csv('ngozumpa-data/2019_Ngozumpa-depressions.csv')\n",
    "#Write the areas and counts to a .dat file\n",
    "\n",
    "name_of_dat_file = 'ngozumpa-data/2019_Ngozumpa-depressions_new.dat'\n",
    "\n",
    "areas = allData['area']\n",
    "x = find_unique_areas(areas)\n",
    "with open(name_of_dat_file, 'w', newline = '') as f:\n",
    "    writer = csv.writer(f, delimiter = ' ')\n",
    "    for i in range(len(x)):\n",
    "        writer.writerow(x[i,:])"
   ]
  },
  {
   "cell_type": "markdown",
   "id": "electric-definition",
   "metadata": {},
   "source": [
    "#### Now run \"voitalov-tail-estimation.py\" on each of the simulation .dat files. Alternatively, you can open a terminal and run the script on individual .dat files. See https://github.com/ivanvoitalov/tail-estimation for more information. "
   ]
  },
  {
   "cell_type": "code",
   "execution_count": null,
   "id": "protecting-jefferson",
   "metadata": {},
   "outputs": [],
   "source": [
    "subprocess.call(['python', 'voitalov-tail-estimation.py', name_of_dat_file, '2019_Ngozumpa-depressions-tail-estimation-2019_new.pdf'])"
   ]
  }
 ],
 "metadata": {
  "kernelspec": {
   "display_name": "Python 3",
   "language": "python",
   "name": "python3"
  },
  "language_info": {
   "codemirror_mode": {
    "name": "ipython",
    "version": 3
   },
   "file_extension": ".py",
   "mimetype": "text/x-python",
   "name": "python",
   "nbconvert_exporter": "python",
   "pygments_lexer": "ipython3",
   "version": "3.6.8"
  }
 },
 "nbformat": 4,
 "nbformat_minor": 5
}
