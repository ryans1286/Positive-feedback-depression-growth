{
 "cells": [
  {
   "cell_type": "code",
   "execution_count": 2,
   "id": "9721919b",
   "metadata": {},
   "outputs": [],
   "source": [
    "import os, subprocess"
   ]
  },
  {
   "cell_type": "code",
   "execution_count": 8,
   "id": "71572e78",
   "metadata": {},
   "outputs": [],
   "source": [
    "for f in os.listdir('.'):\n",
    "    if os.path.isfile(f) and f.endswith('.dat'):\n",
    "        n = os.path.splitext(f)[0]\n",
    "        if os.path.isfile(n + '.pdf') == False:\n",
    "            subprocess.call(['python', 'tail-estimation.py', f, n + '.pdf'])"
   ]
  },
  {
   "cell_type": "code",
   "execution_count": 3,
   "id": "90a48c1e",
   "metadata": {},
   "outputs": [
    {
     "data": {
      "text/plain": [
       "'C:\\\\Users\\\\edwar\\\\Dropbox\\\\scale-invariance-manuscript_GRL\\\\GRL_model-output\\\\dat-files'"
      ]
     },
     "execution_count": 3,
     "metadata": {},
     "output_type": "execute_result"
    }
   ],
   "source": [
    "pwd"
   ]
  },
  {
   "cell_type": "code",
   "execution_count": null,
   "id": "197cc402",
   "metadata": {},
   "outputs": [],
   "source": []
  }
 ],
 "metadata": {
  "kernelspec": {
   "display_name": "Python 3 (ipykernel)",
   "language": "python",
   "name": "python3"
  },
  "language_info": {
   "codemirror_mode": {
    "name": "ipython",
    "version": 3
   },
   "file_extension": ".py",
   "mimetype": "text/x-python",
   "name": "python",
   "nbconvert_exporter": "python",
   "pygments_lexer": "ipython3",
   "version": "3.8.8"
  }
 },
 "nbformat": 4,
 "nbformat_minor": 5
}
